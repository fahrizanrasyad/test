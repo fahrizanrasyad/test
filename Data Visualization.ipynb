{
 "cells": [
  {
   "cell_type": "markdown",
   "metadata": {
    "heading_collapsed": true
   },
   "source": [
    "# Homework Data Visualization (DS8)"
   ]
  },
  {
   "cell_type": "markdown",
   "metadata": {
    "hidden": true
   },
   "source": [
    "- Nama: Fahrizan Rasyad\n",
    "- Cita-cita semasa kecil: Pembalap Motocross"
   ]
  },
  {
   "cell_type": "code",
   "execution_count": 1,
   "metadata": {
    "ExecuteTime": {
     "end_time": "2020-11-12T13:26:22.209983Z",
     "start_time": "2020-11-12T13:26:21.360470Z"
    },
    "hidden": true
   },
   "outputs": [],
   "source": [
    "import pandas as pd\n",
    "import matplotlib.pyplot as plt\n",
    "import seaborn as sns\n",
    "\n",
    "# please import as much as you need"
   ]
  },
  {
   "cell_type": "code",
   "execution_count": 7,
   "metadata": {
    "ExecuteTime": {
     "end_time": "2020-11-12T13:26:22.272830Z",
     "start_time": "2020-11-12T13:26:22.211908Z"
    },
    "hidden": true
   },
   "outputs": [
    {
     "data": {
      "text/html": [
       "<div>\n",
       "<style scoped>\n",
       "    .dataframe tbody tr th:only-of-type {\n",
       "        vertical-align: middle;\n",
       "    }\n",
       "\n",
       "    .dataframe tbody tr th {\n",
       "        vertical-align: top;\n",
       "    }\n",
       "\n",
       "    .dataframe thead th {\n",
       "        text-align: right;\n",
       "    }\n",
       "</style>\n",
       "<table border=\"1\" class=\"dataframe\">\n",
       "  <thead>\n",
       "    <tr style=\"text-align: right;\">\n",
       "      <th></th>\n",
       "      <th>customerID</th>\n",
       "      <th>gender</th>\n",
       "      <th>SeniorCitizen</th>\n",
       "      <th>Partner</th>\n",
       "      <th>Dependents</th>\n",
       "      <th>tenure</th>\n",
       "      <th>PhoneService</th>\n",
       "      <th>MultipleLines</th>\n",
       "      <th>InternetService</th>\n",
       "      <th>OnlineSecurity</th>\n",
       "      <th>...</th>\n",
       "      <th>DeviceProtection</th>\n",
       "      <th>TechSupport</th>\n",
       "      <th>StreamingTV</th>\n",
       "      <th>StreamingMovies</th>\n",
       "      <th>Contract</th>\n",
       "      <th>PaperlessBilling</th>\n",
       "      <th>PaymentMethod</th>\n",
       "      <th>MonthlyCharges</th>\n",
       "      <th>TotalCharges</th>\n",
       "      <th>Churn</th>\n",
       "    </tr>\n",
       "  </thead>\n",
       "  <tbody>\n",
       "    <tr>\n",
       "      <th>0</th>\n",
       "      <td>7590-VHVEG</td>\n",
       "      <td>Female</td>\n",
       "      <td>0</td>\n",
       "      <td>Yes</td>\n",
       "      <td>No</td>\n",
       "      <td>1</td>\n",
       "      <td>No</td>\n",
       "      <td>No phone service</td>\n",
       "      <td>DSL</td>\n",
       "      <td>No</td>\n",
       "      <td>...</td>\n",
       "      <td>No</td>\n",
       "      <td>No</td>\n",
       "      <td>No</td>\n",
       "      <td>No</td>\n",
       "      <td>Month-to-month</td>\n",
       "      <td>Yes</td>\n",
       "      <td>Electronic check</td>\n",
       "      <td>29.85</td>\n",
       "      <td>29.85</td>\n",
       "      <td>No</td>\n",
       "    </tr>\n",
       "    <tr>\n",
       "      <th>1</th>\n",
       "      <td>5575-GNVDE</td>\n",
       "      <td>Male</td>\n",
       "      <td>0</td>\n",
       "      <td>No</td>\n",
       "      <td>No</td>\n",
       "      <td>34</td>\n",
       "      <td>Yes</td>\n",
       "      <td>No</td>\n",
       "      <td>DSL</td>\n",
       "      <td>Yes</td>\n",
       "      <td>...</td>\n",
       "      <td>Yes</td>\n",
       "      <td>No</td>\n",
       "      <td>No</td>\n",
       "      <td>No</td>\n",
       "      <td>One year</td>\n",
       "      <td>No</td>\n",
       "      <td>Mailed check</td>\n",
       "      <td>56.95</td>\n",
       "      <td>1889.5</td>\n",
       "      <td>No</td>\n",
       "    </tr>\n",
       "    <tr>\n",
       "      <th>2</th>\n",
       "      <td>3668-QPYBK</td>\n",
       "      <td>Male</td>\n",
       "      <td>0</td>\n",
       "      <td>No</td>\n",
       "      <td>No</td>\n",
       "      <td>2</td>\n",
       "      <td>Yes</td>\n",
       "      <td>No</td>\n",
       "      <td>DSL</td>\n",
       "      <td>Yes</td>\n",
       "      <td>...</td>\n",
       "      <td>No</td>\n",
       "      <td>No</td>\n",
       "      <td>No</td>\n",
       "      <td>No</td>\n",
       "      <td>Month-to-month</td>\n",
       "      <td>Yes</td>\n",
       "      <td>Mailed check</td>\n",
       "      <td>53.85</td>\n",
       "      <td>108.15</td>\n",
       "      <td>Yes</td>\n",
       "    </tr>\n",
       "    <tr>\n",
       "      <th>3</th>\n",
       "      <td>7795-CFOCW</td>\n",
       "      <td>Male</td>\n",
       "      <td>0</td>\n",
       "      <td>No</td>\n",
       "      <td>No</td>\n",
       "      <td>45</td>\n",
       "      <td>No</td>\n",
       "      <td>No phone service</td>\n",
       "      <td>DSL</td>\n",
       "      <td>Yes</td>\n",
       "      <td>...</td>\n",
       "      <td>Yes</td>\n",
       "      <td>Yes</td>\n",
       "      <td>No</td>\n",
       "      <td>No</td>\n",
       "      <td>One year</td>\n",
       "      <td>No</td>\n",
       "      <td>Bank transfer (automatic)</td>\n",
       "      <td>42.30</td>\n",
       "      <td>1840.75</td>\n",
       "      <td>No</td>\n",
       "    </tr>\n",
       "    <tr>\n",
       "      <th>4</th>\n",
       "      <td>9237-HQITU</td>\n",
       "      <td>Female</td>\n",
       "      <td>0</td>\n",
       "      <td>No</td>\n",
       "      <td>No</td>\n",
       "      <td>2</td>\n",
       "      <td>Yes</td>\n",
       "      <td>No</td>\n",
       "      <td>Fiber optic</td>\n",
       "      <td>No</td>\n",
       "      <td>...</td>\n",
       "      <td>No</td>\n",
       "      <td>No</td>\n",
       "      <td>No</td>\n",
       "      <td>No</td>\n",
       "      <td>Month-to-month</td>\n",
       "      <td>Yes</td>\n",
       "      <td>Electronic check</td>\n",
       "      <td>70.70</td>\n",
       "      <td>151.65</td>\n",
       "      <td>Yes</td>\n",
       "    </tr>\n",
       "  </tbody>\n",
       "</table>\n",
       "<p>5 rows × 21 columns</p>\n",
       "</div>"
      ],
      "text/plain": [
       "   customerID  gender  SeniorCitizen Partner Dependents  tenure PhoneService  \\\n",
       "0  7590-VHVEG  Female              0     Yes         No       1           No   \n",
       "1  5575-GNVDE    Male              0      No         No      34          Yes   \n",
       "2  3668-QPYBK    Male              0      No         No       2          Yes   \n",
       "3  7795-CFOCW    Male              0      No         No      45           No   \n",
       "4  9237-HQITU  Female              0      No         No       2          Yes   \n",
       "\n",
       "      MultipleLines InternetService OnlineSecurity  ... DeviceProtection  \\\n",
       "0  No phone service             DSL             No  ...               No   \n",
       "1                No             DSL            Yes  ...              Yes   \n",
       "2                No             DSL            Yes  ...               No   \n",
       "3  No phone service             DSL            Yes  ...              Yes   \n",
       "4                No     Fiber optic             No  ...               No   \n",
       "\n",
       "  TechSupport StreamingTV StreamingMovies        Contract PaperlessBilling  \\\n",
       "0          No          No              No  Month-to-month              Yes   \n",
       "1          No          No              No        One year               No   \n",
       "2          No          No              No  Month-to-month              Yes   \n",
       "3         Yes          No              No        One year               No   \n",
       "4          No          No              No  Month-to-month              Yes   \n",
       "\n",
       "               PaymentMethod MonthlyCharges  TotalCharges Churn  \n",
       "0           Electronic check          29.85         29.85    No  \n",
       "1               Mailed check          56.95        1889.5    No  \n",
       "2               Mailed check          53.85        108.15   Yes  \n",
       "3  Bank transfer (automatic)          42.30       1840.75    No  \n",
       "4           Electronic check          70.70        151.65   Yes  \n",
       "\n",
       "[5 rows x 21 columns]"
      ]
     },
     "execution_count": 7,
     "metadata": {},
     "output_type": "execute_result"
    }
   ],
   "source": [
    "# read your data\n",
    "\n",
    "df = pd.read_csv('csv/telco_customer.csv')\n",
    "df.head()"
   ]
  },
  {
   "cell_type": "code",
   "execution_count": 34,
   "metadata": {},
   "outputs": [
    {
     "name": "stdout",
     "output_type": "stream",
     "text": [
      "<class 'pandas.core.frame.DataFrame'>\n",
      "RangeIndex: 7043 entries, 0 to 7042\n",
      "Data columns (total 21 columns):\n",
      " #   Column            Non-Null Count  Dtype  \n",
      "---  ------            --------------  -----  \n",
      " 0   customerID        7043 non-null   object \n",
      " 1   gender            7043 non-null   object \n",
      " 2   SeniorCitizen     7043 non-null   int64  \n",
      " 3   Partner           7043 non-null   object \n",
      " 4   Dependents        7043 non-null   object \n",
      " 5   tenure            7043 non-null   int64  \n",
      " 6   PhoneService      7043 non-null   object \n",
      " 7   MultipleLines     7043 non-null   object \n",
      " 8   InternetService   7043 non-null   object \n",
      " 9   OnlineSecurity    7043 non-null   object \n",
      " 10  OnlineBackup      7043 non-null   object \n",
      " 11  DeviceProtection  7043 non-null   object \n",
      " 12  TechSupport       7043 non-null   object \n",
      " 13  StreamingTV       7043 non-null   object \n",
      " 14  StreamingMovies   7043 non-null   object \n",
      " 15  Contract          7043 non-null   object \n",
      " 16  PaperlessBilling  7043 non-null   object \n",
      " 17  PaymentMethod     7043 non-null   object \n",
      " 18  MonthlyCharges    7043 non-null   float64\n",
      " 19  TotalCharges      7043 non-null   object \n",
      " 20  Churn             7043 non-null   object \n",
      "dtypes: float64(1), int64(2), object(18)\n",
      "memory usage: 1.1+ MB\n"
     ]
    }
   ],
   "source": [
    "df.info()"
   ]
  },
  {
   "cell_type": "code",
   "execution_count": 122,
   "metadata": {},
   "outputs": [
    {
     "data": {
      "text/html": [
       "<div>\n",
       "<style scoped>\n",
       "    .dataframe tbody tr th:only-of-type {\n",
       "        vertical-align: middle;\n",
       "    }\n",
       "\n",
       "    .dataframe tbody tr th {\n",
       "        vertical-align: top;\n",
       "    }\n",
       "\n",
       "    .dataframe thead th {\n",
       "        text-align: right;\n",
       "    }\n",
       "</style>\n",
       "<table border=\"1\" class=\"dataframe\">\n",
       "  <thead>\n",
       "    <tr style=\"text-align: right;\">\n",
       "      <th></th>\n",
       "      <th>SeniorCitizen</th>\n",
       "      <th>tenure</th>\n",
       "      <th>MonthlyCharges</th>\n",
       "    </tr>\n",
       "  </thead>\n",
       "  <tbody>\n",
       "    <tr>\n",
       "      <th>count</th>\n",
       "      <td>7043.000000</td>\n",
       "      <td>7043.000000</td>\n",
       "      <td>7043.000000</td>\n",
       "    </tr>\n",
       "    <tr>\n",
       "      <th>mean</th>\n",
       "      <td>0.162147</td>\n",
       "      <td>32.371149</td>\n",
       "      <td>64.761692</td>\n",
       "    </tr>\n",
       "    <tr>\n",
       "      <th>std</th>\n",
       "      <td>0.368612</td>\n",
       "      <td>24.559481</td>\n",
       "      <td>30.090047</td>\n",
       "    </tr>\n",
       "    <tr>\n",
       "      <th>min</th>\n",
       "      <td>0.000000</td>\n",
       "      <td>0.000000</td>\n",
       "      <td>18.250000</td>\n",
       "    </tr>\n",
       "    <tr>\n",
       "      <th>25%</th>\n",
       "      <td>0.000000</td>\n",
       "      <td>9.000000</td>\n",
       "      <td>35.500000</td>\n",
       "    </tr>\n",
       "    <tr>\n",
       "      <th>50%</th>\n",
       "      <td>0.000000</td>\n",
       "      <td>29.000000</td>\n",
       "      <td>70.350000</td>\n",
       "    </tr>\n",
       "    <tr>\n",
       "      <th>75%</th>\n",
       "      <td>0.000000</td>\n",
       "      <td>55.000000</td>\n",
       "      <td>89.850000</td>\n",
       "    </tr>\n",
       "    <tr>\n",
       "      <th>max</th>\n",
       "      <td>1.000000</td>\n",
       "      <td>72.000000</td>\n",
       "      <td>118.750000</td>\n",
       "    </tr>\n",
       "  </tbody>\n",
       "</table>\n",
       "</div>"
      ],
      "text/plain": [
       "       SeniorCitizen       tenure  MonthlyCharges\n",
       "count    7043.000000  7043.000000     7043.000000\n",
       "mean        0.162147    32.371149       64.761692\n",
       "std         0.368612    24.559481       30.090047\n",
       "min         0.000000     0.000000       18.250000\n",
       "25%         0.000000     9.000000       35.500000\n",
       "50%         0.000000    29.000000       70.350000\n",
       "75%         0.000000    55.000000       89.850000\n",
       "max         1.000000    72.000000      118.750000"
      ]
     },
     "execution_count": 122,
     "metadata": {},
     "output_type": "execute_result"
    }
   ],
   "source": [
    "df.describe()"
   ]
  },
  {
   "cell_type": "markdown",
   "metadata": {
    "heading_collapsed": true
   },
   "source": [
    "# Normal"
   ]
  },
  {
   "cell_type": "markdown",
   "metadata": {
    "hidden": true
   },
   "source": [
    "## Dalam rata-rata, payment method mana yang memiliki monthly charge terbesar per customernya?\n",
    "\n",
    "Hint: Gunakan groupby payment method terhadap monthly charge dengan aggregate function rata-rata"
   ]
  },
  {
   "cell_type": "code",
   "execution_count": 759,
   "metadata": {},
   "outputs": [
    {
     "data": {
      "image/png": "[encoded data removed]",
      "text/plain": [
       "<Figure size 576x432 with 1 Axes>"
      ]
     },
     "metadata": {
      "needs_background": "light"
     },
     "output_type": "display_data"
    }
   ],
   "source": [
    "# your code goes here!\n",
    "\n",
    "dfcustomer = pd.DataFrame(df.customerID.unique())\n",
    "# Asumsi : setiap customer ID hanya memiliki satu payment menthod\n",
    "\n",
    "df_PaymentMethod = df.groupby('PaymentMethod')['MonthlyCharges'].mean().reset_index() # agregasi monthlycharge\n",
    "\n",
    "x = df_PaymentMethod['PaymentMethod']\n",
    "y = df_PaymentMethod['MonthlyCharges'].round(2)\n",
    "\n",
    "plt.figure(figsize=(8,6)) # ukuran figure\n",
    "plt.bar(x=x, height=y) \n",
    "sns.barplot(x = 'PaymentMethod', y= 'MonthlyCharges', palette='Paired',data=df_PaymentMethod) # barplot\n",
    "sns.despine()\n",
    "\n",
    "x_numbers = range(len(x))\n",
    "for i in x_numbers:\n",
    "    plt.text(x = x_numbers[i], y = y[i]+1, s = str(y[i]), size = 12, ha='center') # data points\n",
    "\n",
    "plt.ylim(0, 100) # limit sumbu y\n",
    "plt.title('Average Monthly Charges by Payment Method', fontsize = 16) # nama figure\n",
    "plt.tight_layout(pad=1.0); # nama di sumbu x berjarak"
   ]
  },
  {
   "cell_type": "markdown",
   "metadata": {
    "hidden": true
   },
   "source": [
    "Jadi, dari plot di atas, dapat disimpulkan bahwa pelanggan dengan payment method electronic check (76,26 dollar) memiliki rata-rata monthlycharges paling tinggi disusul bank transfer, credit card dan mailed check yang terkecil dengan nilai rata-rata 43,92 dollar"
   ]
  },
  {
   "cell_type": "markdown",
   "metadata": {
    "hidden": true
   },
   "source": [
    "\n"
   ]
  },
  {
   "cell_type": "markdown",
   "metadata": {
    "hidden": true
   },
   "source": [
    "## Bagaimana jumlah customer dilihat dari tenure group?\n",
    "\n",
    "Tenure group:\n",
    "- low_tenure: User dengan tenure < 21 hari\n",
    "- medium_tenure: User dengan tenure 21 - 40 hari\n",
    "- high_tenure: User dengan tenure > 40 hari\n",
    "\n",
    "Hint:\n",
    "- Memotong data integer menjadi group categorical dapat menggunakan beberapa macam cara, contohnya dengan numpy.where atau pandas.cut\n",
    "- Mirip dengan plot pertama, namun ini menghitung jumlah unique users"
   ]
  },
  {
   "cell_type": "code",
   "execution_count": 773,
   "metadata": {
    "ExecuteTime": {
     "end_time": "2020-11-12T13:26:29.020186Z",
     "start_time": "2020-11-12T13:26:28.637626Z"
    },
    "hidden": true
   },
   "outputs": [
    {
     "data": {
      "image/png": "[encoded data removed]",
      "text/plain": [
       "<Figure size 576x432 with 1 Axes>"
      ]
     },
     "metadata": {
      "needs_background": "light"
     },
     "output_type": "display_data"
    }
   ],
   "source": [
    "# your code goes here!\n",
    "\n",
    "df = pd.read_csv('csv/telco_customer.csv')\n",
    "#df.head()\n",
    "\n",
    "dfcustomer = pd.DataFrame(df.customerID.unique())\n",
    "# Asumsi : setiap customer ID hanya memiliki satu payment menthod\n",
    "\n",
    "def segment(x):\n",
    "    if x['tenure'] > 40:\n",
    "        segment = 'high_tenure'\n",
    "    elif x['tenure'] >21  and x['tenure'] < 40:\n",
    "        segment = 'medium_tenure'\n",
    "    else:\n",
    "        segment = 'low_tenure'\n",
    "    return segment \n",
    "\n",
    "df['Tenure_Category'] = df.apply(lambda x: segment(x), axis=1) # pembagian kategori tenure\n",
    "\n",
    "Additional = [1] * 7043\n",
    "df['Jumlah_Customer'] = Additional # kolom baru agar dapat diagregeasi dengan kategori tenure\n",
    "\n",
    "df_Tenure = df.groupby('Tenure_Category')['Jumlah_Customer'].sum().reset_index()\n",
    "\n",
    "plt.figure(figsize=(8,6)) # ukuran figure\n",
    "plt.bar(x=x, height=y) \n",
    "sns.barplot(x = 'Tenure_Category', y= 'Jumlah_Customer', data=df_Tenure) # barplot\n",
    "sns.despine()\n",
    "\n",
    "x = df_Tenure['Tenure_Category']\n",
    "y = df_Tenure['Jumlah_Customer']\n",
    "\n",
    "x_numbers = range(len(x))\n",
    "for i in x_numbers:\n",
    "    plt.text(x = x_numbers[i], y = y[i]+25, s = str(y[i]), size = 12, ha='center') # data points\n",
    "\n",
    "plt.ylim(0, 3500) # limit sumbu y\n",
    "plt.title('Customers by Tenure Category', fontsize = 16) # nama figure\n",
    "plt.tight_layout(pad=1.0); # nama di sumbu x berjarak"
   ]
  },
  {
   "cell_type": "markdown",
   "metadata": {
    "hidden": true
   },
   "source": [
    "Jadi, dari plot di atas, kami menyimpulkan bahwa kebanyakan customer merupakan low_tenure, sementara jumlah customer yang high_tenure hanya berselisih 248 customer dari low_tenure. Medium_tenure merupakan kategori yang paling rendah"
   ]
  },
  {
   "cell_type": "markdown",
   "metadata": {
    "hidden": true
   },
   "source": [
    " "
   ]
  },
  {
   "cell_type": "markdown",
   "metadata": {
    "hidden": true
   },
   "source": [
    "## Apakah kebanyakan dari Senior Citizen berlangganan PhoneService?"
   ]
  },
  {
   "cell_type": "markdown",
   "metadata": {
    "hidden": true
   },
   "source": [
    "Hint:\n",
    "- Dapat menggunakan feature/input parameter hue pada seaborn\n",
    "- Dalam menghitung jumlah unique customer, jangan lupa perhatikan angka rasio, tidak hanya angka absolutnya\n",
    "\n",
    "\n"
   ]
  },
  {
   "cell_type": "code",
   "execution_count": 768,
   "metadata": {},
   "outputs": [
    {
     "data": {
      "image/png": "[encoded data removed]",
      "text/plain": [
       "<Figure size 576x432 with 1 Axes>"
      ]
     },
     "metadata": {
      "needs_background": "light"
     },
     "output_type": "display_data"
    }
   ],
   "source": [
    "# your code goes here!\n",
    "\n",
    "df = pd.read_csv('csv/telco_customer.csv')\n",
    "df.head()\n",
    "\n",
    "dfcustomer = pd.DataFrame(df.customerID.unique())\n",
    "# Asumsi : setiap customer ID hanya memiliki satu payment menthod\n",
    "\n",
    "df['SeniorCitizen'] = df['SeniorCitizen'].map({1:'Yes', 0:'No'})\n",
    "df\n",
    "\n",
    "plt.figure(figsize=(8,6))\n",
    "sns.countplot(x='PhoneService', data=df, hue='SeniorCitizen', palette='bright')\n",
    "sns.despine()\n",
    "\n",
    "plt.ylim(0, 6000) # limit sumbu y\n",
    "plt.title('Phone Service of Senior Citizen', fontsize = 16) # nama figure\n",
    "plt.tight_layout(pad=1.0); # nama di sumbu x berjarak"
   ]
  },
  {
   "cell_type": "code",
   "execution_count": 775,
   "metadata": {},
   "outputs": [
    {
     "data": {
      "image/png": "[encoded data removed]",
      "text/plain": [
       "<Figure size 864x432 with 2 Axes>"
      ]
     },
     "metadata": {
      "needs_background": "light"
     },
     "output_type": "display_data"
    }
   ],
   "source": [
    "df = pd.read_csv('csv/telco_customer.csv')\n",
    "df.head()\n",
    "\n",
    "df_Phone = df.groupby('PhoneService')['customerID'].count().reset_index()\n",
    "df_Phone\n",
    "\n",
    "df_SeniorCitizen0 = df[~ (df['SeniorCitizen'] == 1)]\n",
    "df_SeniorCitizen0\n",
    "\n",
    "df_PhoneSeniorN = df_SeniorCitizen0.groupby('PhoneService')['SeniorCitizen'].count().reset_index()\n",
    "df_PhoneSeniorN # Senior Citizen yang tidak berlangganan phone service\n",
    "\n",
    "df_Phone = df.groupby('PhoneService')['customerID'].count().reset_index()\n",
    "df_Phone\n",
    "\n",
    "df_SeniorCitizen1 = df[~ (df['SeniorCitizen'] == 0)]\n",
    "df_SeniorCitizen1\n",
    "\n",
    "df_PhoneSeniorY = df_SeniorCitizen1.groupby('PhoneService')['SeniorCitizen'].count().reset_index()\n",
    "df_PhoneSeniorY # Senior Citizen yang berlangganan phone service\n",
    "\n",
    "plt.figure(figsize=(12,6))\n",
    "plt.subplot(1,2,1) # agar bar plot bersebelahan\n",
    "sns.barplot(x='PhoneService', y='SeniorCitizen', data=df_PhoneSeniorY, palette='bright')\n",
    "sns.despine()\n",
    "\n",
    "x = df_PhoneSeniorY['PhoneService']\n",
    "y = df_PhoneSeniorY['SeniorCitizen']\n",
    "\n",
    "x_numbers = range(len(x))\n",
    "for i in x_numbers:\n",
    "    plt.text(x = x_numbers[i], y = y[i]+50, s = str(y[i]), size = 12, ha='center') # data points\n",
    "\n",
    "plt.ylim(0, 6000) # limit sumbu y\n",
    "plt.title('Phone Service of Senior Citizen', fontsize = 16) # nama figure\n",
    "plt.tight_layout(); # nama di sumbu x berjarak\n",
    "\n",
    "plt.subplot(1,2,2) # agar bar plot bersebelahan\n",
    "sns.barplot(x='PhoneService', y='SeniorCitizen', data=df_PhoneSeniorN, palette='bright')\n",
    "sns.despine()\n",
    "\n",
    "x = df_PhoneSeniorN['PhoneService']\n",
    "y = df_PhoneSeniorN['SeniorCitizen']\n",
    "\n",
    "x_numbers = range(len(x))\n",
    "for i in x_numbers:\n",
    "    plt.text(x = x_numbers[i], y = y[i]+50, s = str(y[i]), size = 12, ha='center') # data points\n",
    "\n",
    "plt.ylim(0, 6000) # limit sumbu y\n",
    "plt.title('Phone Service of Non-Senior Citizen', fontsize = 16) # nama figure\n",
    "plt.tight_layout(); # nama di sumbu x berjarak"
   ]
  },
  {
   "cell_type": "markdown",
   "metadata": {
    "hidden": true
   },
   "source": [
    "Jadi, dari plot di atas, dapat disimpulkan bahwa dari data yang terhimpun, senior citizen yang berlangganan phoneservice berjumlah 1038 namun senior citizen yang tidak berlangganan phoneservice hanya berjumlah 104."
   ]
  },
  {
   "cell_type": "markdown",
   "metadata": {
    "hidden": true
   },
   "source": [
    "## Bagaimana Distribusi dari TotalCharge?"
   ]
  },
  {
   "cell_type": "markdown",
   "metadata": {
    "hidden": true
   },
   "source": [
    "Hint:\n",
    "- Ubah datatype TotalCharge dari object ke int atau float\n",
    "- Buat distribusi plot!"
   ]
  },
  {
   "cell_type": "code",
   "execution_count": 778,
   "metadata": {},
   "outputs": [
    {
     "data": {
      "image/png": "[encoded data removed]",
      "text/plain": [
       "<Figure size 720x576 with 1 Axes>"
      ]
     },
     "metadata": {
      "needs_background": "light"
     },
     "output_type": "display_data"
    }
   ],
   "source": [
    "# your code goes here!\n",
    "\n",
    "df = pd.read_csv('csv/telco_customer.csv')\n",
    "pd.set_option('display.max_columns', 999)\n",
    "df.head()\n",
    "\n",
    "df.TotalCharges = pd.to_numeric(df.TotalCharges, errors='coerce')\n",
    "#df.info()\n",
    "#df.head()\n",
    "\n",
    "dfcustomer = pd.DataFrame(df.customerID.unique())\n",
    "# Asumsi : setiap customer ID hanya memiliki satu payment menthod\n",
    "\n",
    "plt.figure(figsize=(10,8))\n",
    "#sns.distplot(df['TotalCharges'], hist=False, kde=True)      # --> distribusi tapi ada error #\n",
    "sns.histplot(df['TotalCharges'])\n",
    "sns.despine()\n",
    "\n",
    "plt.title('Total Charges Distribution', fontsize = 16) # nama figure\n",
    "plt.tight_layout(); "
   ]
  },
  {
   "cell_type": "code",
   "execution_count": 326,
   "metadata": {},
   "outputs": [
    {
     "data": {
      "text/html": [
       "<div>\n",
       "<style scoped>\n",
       "    .dataframe tbody tr th:only-of-type {\n",
       "        vertical-align: middle;\n",
       "    }\n",
       "\n",
       "    .dataframe tbody tr th {\n",
       "        vertical-align: top;\n",
       "    }\n",
       "\n",
       "    .dataframe thead th {\n",
       "        text-align: right;\n",
       "    }\n",
       "</style>\n",
       "<table border=\"1\" class=\"dataframe\">\n",
       "  <thead>\n",
       "    <tr style=\"text-align: right;\">\n",
       "      <th></th>\n",
       "      <th>SeniorCitizen</th>\n",
       "      <th>tenure</th>\n",
       "      <th>MonthlyCharges</th>\n",
       "      <th>TotalCharges</th>\n",
       "    </tr>\n",
       "  </thead>\n",
       "  <tbody>\n",
       "    <tr>\n",
       "      <th>count</th>\n",
       "      <td>7043.000000</td>\n",
       "      <td>7043.000000</td>\n",
       "      <td>7043.000000</td>\n",
       "      <td>7032.000000</td>\n",
       "    </tr>\n",
       "    <tr>\n",
       "      <th>mean</th>\n",
       "      <td>0.162147</td>\n",
       "      <td>32.371149</td>\n",
       "      <td>64.761692</td>\n",
       "      <td>2283.300441</td>\n",
       "    </tr>\n",
       "    <tr>\n",
       "      <th>std</th>\n",
       "      <td>0.368612</td>\n",
       "      <td>24.559481</td>\n",
       "      <td>30.090047</td>\n",
       "      <td>2266.771362</td>\n",
       "    </tr>\n",
       "    <tr>\n",
       "      <th>min</th>\n",
       "      <td>0.000000</td>\n",
       "      <td>0.000000</td>\n",
       "      <td>18.250000</td>\n",
       "      <td>18.800000</td>\n",
       "    </tr>\n",
       "    <tr>\n",
       "      <th>25%</th>\n",
       "      <td>0.000000</td>\n",
       "      <td>9.000000</td>\n",
       "      <td>35.500000</td>\n",
       "      <td>401.450000</td>\n",
       "    </tr>\n",
       "    <tr>\n",
       "      <th>50%</th>\n",
       "      <td>0.000000</td>\n",
       "      <td>29.000000</td>\n",
       "      <td>70.350000</td>\n",
       "      <td>1397.475000</td>\n",
       "    </tr>\n",
       "    <tr>\n",
       "      <th>75%</th>\n",
       "      <td>0.000000</td>\n",
       "      <td>55.000000</td>\n",
       "      <td>89.850000</td>\n",
       "      <td>3794.737500</td>\n",
       "    </tr>\n",
       "    <tr>\n",
       "      <th>max</th>\n",
       "      <td>1.000000</td>\n",
       "      <td>72.000000</td>\n",
       "      <td>118.750000</td>\n",
       "      <td>8684.800000</td>\n",
       "    </tr>\n",
       "  </tbody>\n",
       "</table>\n",
       "</div>"
      ],
      "text/plain": [
       "       SeniorCitizen       tenure  MonthlyCharges  TotalCharges\n",
       "count    7043.000000  7043.000000     7043.000000   7032.000000\n",
       "mean        0.162147    32.371149       64.761692   2283.300441\n",
       "std         0.368612    24.559481       30.090047   2266.771362\n",
       "min         0.000000     0.000000       18.250000     18.800000\n",
       "25%         0.000000     9.000000       35.500000    401.450000\n",
       "50%         0.000000    29.000000       70.350000   1397.475000\n",
       "75%         0.000000    55.000000       89.850000   3794.737500\n",
       "max         1.000000    72.000000      118.750000   8684.800000"
      ]
     },
     "execution_count": 326,
     "metadata": {},
     "output_type": "execute_result"
    }
   ],
   "source": [
    "df.describe()"
   ]
  },
  {
   "cell_type": "markdown",
   "metadata": {
    "hidden": true
   },
   "source": [
    "Jadi, dari plot di atas, dapat disimpulkan bahwa distribusi total charges tidak membentuk grafik distribusi normal melainkan positively skewed, hal tersebut menyebabkan sebagian besar total charges (75%) berada dibawah 37xx dollar. Grafik diatas juga menendakan nilai median dari totalcharges akan lebih kecil daripada nilai mean atau rata-ratanya."
   ]
  },
  {
   "cell_type": "markdown",
   "metadata": {
    "heading_collapsed": true
   },
   "source": [
    "# Intermediate"
   ]
  },
  {
   "cell_type": "markdown",
   "metadata": {
    "hidden": true
   },
   "source": [
    "## Apakah customer yang memiliki monthly charges yang tinggi cenderung churn?\n",
    "\n",
    "Hint: dapat ditunjukan melalui distribusi data"
   ]
  },
  {
   "cell_type": "markdown",
   "metadata": {
    "hidden": true
   },
   "source": [
    " "
   ]
  },
  {
   "cell_type": "code",
   "execution_count": 779,
   "metadata": {},
   "outputs": [
    {
     "data": {
      "image/png": "[encoded data removed]",
      "text/plain": [
       "<Figure size 720x576 with 1 Axes>"
      ]
     },
     "metadata": {
      "needs_background": "light"
     },
     "output_type": "display_data"
    }
   ],
   "source": [
    "# your code goes here!\n",
    "\n",
    "df = pd.read_csv('csv/telco_customer.csv')\n",
    "pd.set_option('display.max_columns', 999)\n",
    "df.head()\n",
    "\n",
    "#sns.histplot(df['MonthlyCharges'])\n",
    "plt.show()\n",
    "\n",
    "def segment(x):\n",
    "    if x['MonthlyCharges'] > 89.850000:\n",
    "        segment = 'very high'\n",
    "    elif x['MonthlyCharges'] >70.350000  and x['MonthlyCharges'] < 89.850000:\n",
    "        segment = 'high'\n",
    "    elif x['MonthlyCharges'] >35.500000 and x['MonthlyCharges'] < 70.350000:\n",
    "        segment = 'medium'\n",
    "    else:\n",
    "        segment = 'low'\n",
    "    return segment # pembagian segmen monthly charges berdasarkan q1, q2 dan q3 (0 s.d q1 = low, q1 s.d q2 = med, dst..)\n",
    "\n",
    "df['segment_apply'] = df.apply(lambda x: segment(x), axis=1)\n",
    "#df\n",
    "\n",
    "df_z = df.groupby(['segment_apply', 'Churn'])['MonthlyCharges'].sum().reset_index()\n",
    "#df_z\n",
    "\n",
    "df_new = df_z.pivot_table(index='segment_apply', columns='Churn', values='MonthlyCharges')\n",
    "#df_new\n",
    "\n",
    "df_new.plot(kind='barh',stacked=True, figsize=(10,8))\n",
    "plt.title('Churn by Monthly Charges Segment', fontsize = 16)\n",
    "sns.despine();"
   ]
  },
  {
   "cell_type": "markdown",
   "metadata": {
    "hidden": true
   },
   "source": [
    "Jadi, dari plot di atas, dapat disimpulkan bahwa pada monthly charges yang tergolong high & very high (diatas 70.350000), kecenderungan customer untuk churn lebih besar daripada monthly charges pada segment low dan medium. Namun kecenderungan tersebut masih dibawah 50% dari jumlah per segment nya."
   ]
  },
  {
   "cell_type": "markdown",
   "metadata": {
    "hidden": true
   },
   "source": [
    "## Bagaimana pengaruh memiliki partner & dependents terhadap tingkat churn customer?\n",
    "\n",
    "Hint: concat partner dan dependents, gunakan parameter 'hue' pada seaborn untuk mempermudah"
   ]
  },
  {
   "cell_type": "code",
   "execution_count": 781,
   "metadata": {},
   "outputs": [
    {
     "data": {
      "image/png": "[encoded data removed]",
      "text/plain": [
       "<Figure size 864x432 with 2 Axes>"
      ]
     },
     "metadata": {
      "needs_background": "light"
     },
     "output_type": "display_data"
    }
   ],
   "source": [
    "# your code goes here!\n",
    "\n",
    "df = pd.read_csv('csv/telco_customer.csv')\n",
    "pd.set_option('display.max_columns', 999)\n",
    "df.head(1)\n",
    "\n",
    "plt.figure(figsize=(12,6))\n",
    "plt.subplot(1,2,1)\n",
    "sns.countplot(x='Partner' , data=df, hue='Churn', palette='bright')\n",
    "sns.despine()\n",
    "plt.title('Partner Vs. Num. of customers', fontsize = 16)\n",
    "plt.ylim(0, 4000)\n",
    "\n",
    "plt.subplot(1,2,2)\n",
    "sns.countplot(x='Dependents' , data=df, hue='Churn', palette='bright')\n",
    "sns.despine()\n",
    "plt.title('Dependents Vs. Num. of customers', fontsize = 16)\n",
    "plt.ylim(0, 4000)\n",
    "\n",
    "plt.show()"
   ]
  },
  {
   "cell_type": "markdown",
   "metadata": {
    "hidden": true
   },
   "source": [
    "Jadi, dari plot di atas, dapat disimpulkan bahwa kecenderungan customer yang memiliki partner untuk churn merupakan yang paling kecil pada grafik jumlah partner vs. Num of customer. Begitu pun customer yang dependents pada grafik dependents vs. Num of customer"
   ]
  },
  {
   "cell_type": "markdown",
   "metadata": {
    "heading_collapsed": true
   },
   "source": [
    "# Hard"
   ]
  },
  {
   "cell_type": "markdown",
   "metadata": {
    "hidden": true
   },
   "source": [
    "## Buatlah satu insight dari data telco customer, dan sertakan storyline pada visualisasi tersebut!"
   ]
  },
  {
   "cell_type": "code",
   "execution_count": 783,
   "metadata": {
    "hidden": true
   },
   "outputs": [
    {
     "data": {
      "image/png": "[encoded data removed]",
      "text/plain": [
       "<Figure size 720x576 with 2 Axes>"
      ]
     },
     "metadata": {
      "needs_background": "light"
     },
     "output_type": "display_data"
    }
   ],
   "source": [
    "dfcustomer = pd.DataFrame(df.customerID.unique())\n",
    "# Asumsi : setiap customer ID hanya memiliki satu payment menthod\n",
    "\n",
    "# plot 1\n",
    "df_PaymentMethod = df.groupby('Contract')['MonthlyCharges'].count().reset_index() # agregasi monthlycharge\n",
    "\n",
    "x = df_PaymentMethod['Contract']\n",
    "y = df_PaymentMethod['MonthlyCharges'].round(2)\n",
    "\n",
    "plt.figure(figsize=(10,8)) # ukuran figure\n",
    "plt.subplot(1,2,1)\n",
    "plt.bar(x=x, height=y) \n",
    "graph = sns.barplot(x = 'Contract', y= 'MonthlyCharges', data=df_PaymentMethod, palette='bright') # barplot\n",
    "sns.despine()\n",
    "\n",
    "x_numbers = range(len(x))\n",
    "for i in x_numbers:\n",
    "    plt.text(x = x_numbers[i], y = y[i]+20, s = str(y[i]), size = 12, ha='center') # data points\n",
    "\n",
    "plt.ylim(0, 5000) # limit sumbu y\n",
    "plt.title('Num. of Customer by Contract', fontsize = 12)\n",
    "\n",
    "# plot 2\n",
    "df_PaymentMethod = df.groupby('Contract')['MonthlyCharges'].mean().reset_index() # agregasi monthlycharge\n",
    "\n",
    "x = df_PaymentMethod['Contract']\n",
    "y = df_PaymentMethod['MonthlyCharges'].round(2)\n",
    "\n",
    "plt.subplot(1,2,2)\n",
    "plt.bar(x=x, height=y) \n",
    "graph = sns.barplot(x = 'Contract', y= 'MonthlyCharges', data=df_PaymentMethod, palette='bright') # barplot\n",
    "sns.despine()\n",
    "\n",
    "x_numbers = range(len(x))\n",
    "for i in x_numbers:\n",
    "    plt.text(x = x_numbers[i], y = y[i]+1, s = str(y[i]), size = 12, ha='center') # data points\n",
    "plt.ylim(0, 80) # limit sumbu y\n",
    "plt.title('Average Monthly Charges by Contract', fontsize = 12)\n",
    "\n",
    "graph.text(x = 0.3, y = 93, s = \"Behind Quantity\",\n",
    "               fontsize = 20, weight = 'bold', alpha = .75)\n",
    "graph.text(x = -0.95, y = 90, s = 'Customers Segment by Contract Type',\n",
    "              fontsize = 15, style = 'italic', alpha = .85)\n",
    "graph.text(x = -2.8, y = 87, s = '( where high quantity doesnt always equally high charges )',\n",
    "              fontsize = 15, style = 'italic', alpha = .70)\n",
    "\n",
    "plt.show()"
   ]
  },
  {
   "cell_type": "markdown",
   "metadata": {},
   "source": [
    "Berdasarkan visualisasi diatas, jika kita melihat jumlah customer dan tipe kontrak saja, kesimpulan yang cenderung akan muncul adalah bahwa customer dengan tipe kontrak month-to-month mendominasi transaksi namun pada jika dilihat dari monthlycharges dan tipe kontrak, customer dengan tipe kontrak month-to-month hanya sedikit unggul dari tipe kontrak lainnya yang menandakan bahwa meskipun jumlahnya sedikit, tipe kontrak one dan two-year memberikan milai transaksi yang hampir sama dengan tipe kontrak month-to-month"
   ]
  },
  {
   "cell_type": "markdown",
   "metadata": {},
   "source": [
    "### PS: maaf mas saya baca pdf nya pas mau kumpulin hehe"
   ]
  },
  {
   "cell_type": "code",
   "execution_count": 785,
   "metadata": {},
   "outputs": [
    {
     "data": {
      "image/png": "[encoded data removed]",
      "text/plain": [
       "<Figure size 720x648 with 1 Axes>"
      ]
     },
     "metadata": {
      "needs_background": "light"
     },
     "output_type": "display_data"
    }
   ],
   "source": [
    "dfcustomer = pd.DataFrame(df.customerID.unique())\n",
    "# Asumsi : setiap customer ID hanya memiliki satu payment menthod\n",
    "\n",
    "df_PaymentMethod = df.groupby(['PaymentMethod', 'Churn'])['customerID'].count().reset_index() # agregasi monthlycharge\n",
    "\n",
    "x = df_PaymentMethod['PaymentMethod']\n",
    "y = df_PaymentMethod['customerID']\n",
    "\n",
    "plt.figure(figsize=(10,9)) # ukuran figure\n",
    "#plt.subplot(1,2,1)\n",
    "#plt.bar(x=x, height=y) \n",
    "graph = sns.barplot(x = 'PaymentMethod', y= 'customerID', data=df_PaymentMethod, hue='Churn', palette='YlGnBu') # barplot\n",
    "sns.despine()\n",
    "\n",
    "x_numbers = range(len(x))\n",
    "for i in x_numbers:\n",
    "    plt.text(x = ((x_numbers[i]/2)-0.2), y = y[i]+10, s = str(y[i]), size = 12, ha='center') # data points\n",
    "\n",
    "plt.ylim(0, 1500) # limit sumbu y\n",
    "graph.text(x = -0.35, y = 1600, s = \"Something is Happening in Electronic Check\",\n",
    "               fontsize = 20, weight = 'bold', alpha = .75)\n",
    "graph.text(x = -0.35, y = 1550, s = 'Num. of Customers by Payment Method',\n",
    "              fontsize = 15, style = 'italic', alpha = .85)\n",
    "graph.text(x = -0.35, y = 1500, s = '( where churn in electronic check is lurking )',\n",
    "              fontsize = 15, style = 'italic', alpha = .70)\n",
    "\n",
    "plt.show()"
   ]
  },
  {
   "cell_type": "markdown",
   "metadata": {},
   "source": [
    "Berdasarkan visualisasi diatas, jika kita melihat jumlah customer dan tipe kontrak saja, jumlah customer yang loyal pada setiap kategori payment method cenderung sama, namun customer dengan electronic check memiliki kecenderungan untuk churn paling tinggi sementara pada metode bayar lainnya kecenderungan untuk churn sekitar 20%-30%"
   ]
  }
 ],
 "metadata": {
  "kernelspec": {
   "display_name": "Python 3",
   "language": "python",
   "name": "python3"
  },
  "language_info": {
   "codemirror_mode": {
    "name": "ipython",
    "version": 3
   },
   "file_extension": ".py",
   "mimetype": "text/x-python",
   "name": "python",
   "nbconvert_exporter": "python",
   "pygments_lexer": "ipython3",
   "version": "3.8.5"
  },
  "toc": {
   "base_numbering": 1,
   "nav_menu": {},
   "number_sections": true,
   "sideBar": true,
   "skip_h1_title": false,
   "title_cell": "Table of Contents",
   "title_sidebar": "Contents",
   "toc_cell": false,
   "toc_position": {},
   "toc_section_display": true,
   "toc_window_display": true
  }
 },
 "nbformat": 4,
 "nbformat_minor": 2
}
